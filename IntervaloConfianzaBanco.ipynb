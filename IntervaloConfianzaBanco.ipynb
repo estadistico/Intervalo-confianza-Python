{
  "nbformat": 4,
  "nbformat_minor": 0,
  "metadata": {
    "colab": {
      "provenance": []
    },
    "kernelspec": {
      "name": "python3",
      "display_name": "Python 3"
    },
    "language_info": {
      "name": "python"
    }
  },
  "cells": [
    {
      "cell_type": "markdown",
      "source": [
        "## La Pregunta 2"
      ],
      "metadata": {
        "id": "fZgqSYHap4IG"
      }
    },
    {
      "cell_type": "markdown",
      "source": [
        "Modulo python o paquetes"
      ],
      "metadata": {
        "id": "9hNbc568cQju"
      }
    },
    {
      "cell_type": "code",
      "source": [
        "import matplotlib.pyplot as plt\n",
        "import scipy.stats as ss\n",
        "import numpy as np\n",
        "import pandas as pd"
      ],
      "metadata": {
        "id": "IUKdBv-Trvo6"
      },
      "execution_count": null,
      "outputs": []
    },
    {
      "cell_type": "markdown",
      "source": [
        "> Datos"
      ],
      "metadata": {
        "id": "y49Hx0SsrBHb"
      }
    },
    {
      "cell_type": "code",
      "source": [
        "banco_financiero = {'li': [100,250,400,550,700,850],\n",
        "            'ls' : [250,400,550,700,850,1000],\n",
        "            'banco' : [6,12,18,27,21,17],\n",
        "            'financiero': [20,25,17,12,9,7]}\n",
        "df = pd.DataFrame(banco_financiero, columns = ['li', 'ls', 'banco','financiero'])\n",
        "df"
      ],
      "metadata": {
        "colab": {
          "base_uri": "https://localhost:8080/",
          "height": 238
        },
        "id": "XsSnOTjArCPM",
        "outputId": "1a428d6c-f67f-45c7-c25c-936165f4f3ea"
      },
      "execution_count": null,
      "outputs": [
        {
          "output_type": "execute_result",
          "data": {
            "text/plain": [
              "    li    ls  banco  financiero\n",
              "0  100   250      6          20\n",
              "1  250   400     12          25\n",
              "2  400   550     18          17\n",
              "3  550   700     27          12\n",
              "4  700   850     21           9\n",
              "5  850  1000     17           7"
            ],
            "text/html": [
              "\n",
              "  <div id=\"df-5539123e-6f12-48ce-95ee-7c218cfb35d5\">\n",
              "    <div class=\"colab-df-container\">\n",
              "      <div>\n",
              "<style scoped>\n",
              "    .dataframe tbody tr th:only-of-type {\n",
              "        vertical-align: middle;\n",
              "    }\n",
              "\n",
              "    .dataframe tbody tr th {\n",
              "        vertical-align: top;\n",
              "    }\n",
              "\n",
              "    .dataframe thead th {\n",
              "        text-align: right;\n",
              "    }\n",
              "</style>\n",
              "<table border=\"1\" class=\"dataframe\">\n",
              "  <thead>\n",
              "    <tr style=\"text-align: right;\">\n",
              "      <th></th>\n",
              "      <th>li</th>\n",
              "      <th>ls</th>\n",
              "      <th>banco</th>\n",
              "      <th>financiero</th>\n",
              "    </tr>\n",
              "  </thead>\n",
              "  <tbody>\n",
              "    <tr>\n",
              "      <th>0</th>\n",
              "      <td>100</td>\n",
              "      <td>250</td>\n",
              "      <td>6</td>\n",
              "      <td>20</td>\n",
              "    </tr>\n",
              "    <tr>\n",
              "      <th>1</th>\n",
              "      <td>250</td>\n",
              "      <td>400</td>\n",
              "      <td>12</td>\n",
              "      <td>25</td>\n",
              "    </tr>\n",
              "    <tr>\n",
              "      <th>2</th>\n",
              "      <td>400</td>\n",
              "      <td>550</td>\n",
              "      <td>18</td>\n",
              "      <td>17</td>\n",
              "    </tr>\n",
              "    <tr>\n",
              "      <th>3</th>\n",
              "      <td>550</td>\n",
              "      <td>700</td>\n",
              "      <td>27</td>\n",
              "      <td>12</td>\n",
              "    </tr>\n",
              "    <tr>\n",
              "      <th>4</th>\n",
              "      <td>700</td>\n",
              "      <td>850</td>\n",
              "      <td>21</td>\n",
              "      <td>9</td>\n",
              "    </tr>\n",
              "    <tr>\n",
              "      <th>5</th>\n",
              "      <td>850</td>\n",
              "      <td>1000</td>\n",
              "      <td>17</td>\n",
              "      <td>7</td>\n",
              "    </tr>\n",
              "  </tbody>\n",
              "</table>\n",
              "</div>\n",
              "      <button class=\"colab-df-convert\" onclick=\"convertToInteractive('df-5539123e-6f12-48ce-95ee-7c218cfb35d5')\"\n",
              "              title=\"Convert this dataframe to an interactive table.\"\n",
              "              style=\"display:none;\">\n",
              "        \n",
              "  <svg xmlns=\"http://www.w3.org/2000/svg\" height=\"24px\"viewBox=\"0 0 24 24\"\n",
              "       width=\"24px\">\n",
              "    <path d=\"M0 0h24v24H0V0z\" fill=\"none\"/>\n",
              "    <path d=\"M18.56 5.44l.94 2.06.94-2.06 2.06-.94-2.06-.94-.94-2.06-.94 2.06-2.06.94zm-11 1L8.5 8.5l.94-2.06 2.06-.94-2.06-.94L8.5 2.5l-.94 2.06-2.06.94zm10 10l.94 2.06.94-2.06 2.06-.94-2.06-.94-.94-2.06-.94 2.06-2.06.94z\"/><path d=\"M17.41 7.96l-1.37-1.37c-.4-.4-.92-.59-1.43-.59-.52 0-1.04.2-1.43.59L10.3 9.45l-7.72 7.72c-.78.78-.78 2.05 0 2.83L4 21.41c.39.39.9.59 1.41.59.51 0 1.02-.2 1.41-.59l7.78-7.78 2.81-2.81c.8-.78.8-2.07 0-2.86zM5.41 20L4 18.59l7.72-7.72 1.47 1.35L5.41 20z\"/>\n",
              "  </svg>\n",
              "      </button>\n",
              "      \n",
              "  <style>\n",
              "    .colab-df-container {\n",
              "      display:flex;\n",
              "      flex-wrap:wrap;\n",
              "      gap: 12px;\n",
              "    }\n",
              "\n",
              "    .colab-df-convert {\n",
              "      background-color: #E8F0FE;\n",
              "      border: none;\n",
              "      border-radius: 50%;\n",
              "      cursor: pointer;\n",
              "      display: none;\n",
              "      fill: #1967D2;\n",
              "      height: 32px;\n",
              "      padding: 0 0 0 0;\n",
              "      width: 32px;\n",
              "    }\n",
              "\n",
              "    .colab-df-convert:hover {\n",
              "      background-color: #E2EBFA;\n",
              "      box-shadow: 0px 1px 2px rgba(60, 64, 67, 0.3), 0px 1px 3px 1px rgba(60, 64, 67, 0.15);\n",
              "      fill: #174EA6;\n",
              "    }\n",
              "\n",
              "    [theme=dark] .colab-df-convert {\n",
              "      background-color: #3B4455;\n",
              "      fill: #D2E3FC;\n",
              "    }\n",
              "\n",
              "    [theme=dark] .colab-df-convert:hover {\n",
              "      background-color: #434B5C;\n",
              "      box-shadow: 0px 1px 3px 1px rgba(0, 0, 0, 0.15);\n",
              "      filter: drop-shadow(0px 1px 2px rgba(0, 0, 0, 0.3));\n",
              "      fill: #FFFFFF;\n",
              "    }\n",
              "  </style>\n",
              "\n",
              "      <script>\n",
              "        const buttonEl =\n",
              "          document.querySelector('#df-5539123e-6f12-48ce-95ee-7c218cfb35d5 button.colab-df-convert');\n",
              "        buttonEl.style.display =\n",
              "          google.colab.kernel.accessAllowed ? 'block' : 'none';\n",
              "\n",
              "        async function convertToInteractive(key) {\n",
              "          const element = document.querySelector('#df-5539123e-6f12-48ce-95ee-7c218cfb35d5');\n",
              "          const dataTable =\n",
              "            await google.colab.kernel.invokeFunction('convertToInteractive',\n",
              "                                                     [key], {});\n",
              "          if (!dataTable) return;\n",
              "\n",
              "          const docLinkHtml = 'Like what you see? Visit the ' +\n",
              "            '<a target=\"_blank\" href=https://colab.research.google.com/notebooks/data_table.ipynb>data table notebook</a>'\n",
              "            + ' to learn more about interactive tables.';\n",
              "          element.innerHTML = '';\n",
              "          dataTable['output_type'] = 'display_data';\n",
              "          await google.colab.output.renderOutput(dataTable, element);\n",
              "          const docLink = document.createElement('div');\n",
              "          docLink.innerHTML = docLinkHtml;\n",
              "          element.appendChild(docLink);\n",
              "        }\n",
              "      </script>\n",
              "    </div>\n",
              "  </div>\n",
              "  "
            ]
          },
          "metadata": {},
          "execution_count": 3
        }
      ]
    },
    {
      "cell_type": "code",
      "source": [],
      "metadata": {
        "id": "Qi5UtHlzsUZH"
      },
      "execution_count": null,
      "outputs": []
    },
    {
      "cell_type": "markdown",
      "source": [
        "### a)Mediante un intervalo de confianza del 95% determina si la varianza de los montos de los prestamos es igual entre ambas instituciones"
      ],
      "metadata": {
        "id": "r29W6hSyp7k1"
      }
    },
    {
      "cell_type": "code",
      "source": [
        "df[\"marca\"]=(df.li+df.ls)/2\n",
        "media1=sum(df.banco*df.marca)/len(df)\n",
        "Var_banco= (sum( (df.marca-media1)**2) )/(len(df)-1)\n",
        "media2=sum(df.financiero*df.marca)/len(df)\n",
        "Var_financiero= (sum( (df.marca-media2)**2) )/(len(df)-1)"
      ],
      "metadata": {
        "id": "qDJcRFc2teJC"
      },
      "execution_count": null,
      "outputs": []
    },
    {
      "cell_type": "code",
      "source": [
        "li=(Var_banco/Var_financiero)*ss.f.ppf (q = .05, dfn = 5, dfd = 5)\n",
        "ls=(Var_banco/Var_financiero)*ss.f.ppf (q = 1-.05, dfn = 5, dfd = 5)"
      ],
      "metadata": {
        "id": "AVAr-JilvSX1"
      },
      "execution_count": null,
      "outputs": []
    },
    {
      "cell_type": "code",
      "source": [
        "print(\"limite inferior es: \",li,\"limite superio es\", ls)"
      ],
      "metadata": {
        "colab": {
          "base_uri": "https://localhost:8080/"
        },
        "id": "ngeWFx2Rdh8y",
        "outputId": "9b3f7e70-fce2-411f-fb01-020f616aaefc"
      },
      "execution_count": null,
      "outputs": [
        {
          "output_type": "stream",
          "name": "stdout",
          "text": [
            "limite inferior es:  0.4948409239999256 limite superio es 12.621325312837119\n"
          ]
        }
      ]
    },
    {
      "cell_type": "markdown",
      "source": [
        "En el intervalo no incluye el cero por lo tanto son diferentes las varianzas"
      ],
      "metadata": {
        "id": "n0tAbwgwwRI_"
      }
    },
    {
      "cell_type": "markdown",
      "source": [
        "## B)"
      ],
      "metadata": {
        "id": "SsHMfep5wWkU"
      }
    },
    {
      "cell_type": "code",
      "source": [
        "#banco\n",
        "SL = 0.05\n",
        "std1 = np.sqrt(Var_banco)\n",
        "n1 = len(df)\n",
        "\n",
        "# finance\n",
        "std2 = np.sqrt(Var_financiero)\n",
        "n2 = len(df)\n",
        "\n",
        "# Pooled sample variance\n",
        "sp_var = ((n1 - 1)*std1**2 + (n2 - 1)*std2**2)/(n1 + n2 - 2)\n",
        "\n",
        "# t-value\n",
        "tval = ss.t.isf(SL/2, n1 + n2 -2)\n",
        "\n",
        "# Margin of Error\n",
        "ME = tval * np.sqrt(sp_var/n1 + sp_var/n2)\n",
        "\n",
        "# The boundaries of the CI\n",
        "diff = media1 - media2\n",
        "\n",
        "lower = diff - ME\n",
        "upper = diff + ME\n",
        "\n",
        "# Print the CI\n",
        "print('\\nCon un nivel de confianza {:2.0%} intervalo para la diferencia de media es de [{:4.3f}, {:4.3f}]'.format(1-SL, lower, upper))"
      ],
      "metadata": {
        "colab": {
          "base_uri": "https://localhost:8080/"
        },
        "id": "pIyhig3Swaos",
        "outputId": "05d21ad4-5216-4281-c18a-0a811355525a"
      },
      "execution_count": null,
      "outputs": [
        {
          "output_type": "stream",
          "name": "stdout",
          "text": [
            "\n",
            "Con un nivel de confianza 95% intervalo para la diferencia de media es de [-7992.123, 15233.790]\n"
          ]
        }
      ]
    },
    {
      "cell_type": "markdown",
      "source": [
        "Como incluye el cero no hay diferencia entre las medias"
      ],
      "metadata": {
        "id": "Q-rzq0mGgIoZ"
      }
    },
    {
      "cell_type": "markdown",
      "source": [
        "### C)"
      ],
      "metadata": {
        "id": "pkVefpQGd5Ke"
      }
    },
    {
      "cell_type": "code",
      "source": [
        "pA=(6+12+18)/sum(df.banco)\n",
        "pB=(20+25+17)/sum(df.financiero)\n",
        "diff = pA - pB\n",
        "nA=sum(df.banco)\n",
        "nB=sum(df.financiero)\n",
        "# Margin of Error\n",
        "CL = 0.95\n",
        "SL = 1-CL\n",
        "t_val = ss.norm.isf(SL/2)\n",
        "ME = t_val * np.sqrt(pA * (1-pA)/nA + pB * (1-pB)/nB)\n",
        "\n",
        "# Boundaries\n",
        "lower = diff - ME\n",
        "upper = diff + ME\n",
        "\n",
        "# CI\n",
        "print('Con un {:2.0%} de confianza La diferencia de proporcion es del [{:4.3f}, {:4.3f}]'.format(CL, lower, upper))"
      ],
      "metadata": {
        "colab": {
          "base_uri": "https://localhost:8080/"
        },
        "id": "48SNlnnbeO2P",
        "outputId": "abb93cdd-1ca5-4215-f13f-5f3cba910e70"
      },
      "execution_count": null,
      "outputs": [
        {
          "output_type": "stream",
          "name": "stdout",
          "text": [
            "Con un 95% de confianza La diferencia de proporcion es del [-0.466, -0.199]\n"
          ]
        }
      ]
    },
    {
      "cell_type": "markdown",
      "source": [
        "Como es negativo finaciero es mayor la proporcion en los creditos inferiores a 550"
      ],
      "metadata": {
        "id": "5Zjb7JGld64F"
      }
    }
  ]
}